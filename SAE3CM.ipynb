{
 "cells": [
  {
   "cell_type": "code",
   "execution_count": 1,
   "id": "a6a5b270",
   "metadata": {},
   "outputs": [],
   "source": [
    "import sqlite3\n",
    "import pandas\n",
    "import pymongo\n",
    "client = pymongo.MongoClient(\"mongodb://localhost:27017/\")\n",
    "db = client.sae_classicmodel\n",
    "\n",
    "# Création de la connexion\n",
    "conn = sqlite3.connect(\"ClassicModel.sqlite\")"
   ]
  },
  {
   "cell_type": "code",
   "execution_count": 2,
   "id": "ab066343",
   "metadata": {},
   "outputs": [],
   "source": [
    "orders = pandas.read_sql_query(\n",
    "    \"\"\"SELECT *\n",
    "    FROM Orders;\n",
    "    \"\"\", \n",
    "    conn\n",
    ")"
   ]
  },
  {
   "cell_type": "code",
   "execution_count": 3,
   "id": "1c02876a",
   "metadata": {},
   "outputs": [],
   "source": [
    " employees= pandas.read_sql_query(\n",
    "    \"\"\"SELECT *\n",
    "    FROM Employees;\n",
    "    \"\"\", \n",
    "    conn\n",
    ")"
   ]
  },
  {
   "cell_type": "code",
   "execution_count": 4,
   "id": "09702a5b",
   "metadata": {},
   "outputs": [],
   "source": [
    "offices= pandas.read_sql_query(\n",
    "    \"\"\"SELECT *\n",
    "    FROM Offices;\n",
    "    \"\"\", \n",
    "    conn\n",
    ")"
   ]
  },
  {
   "cell_type": "code",
   "execution_count": 5,
   "id": "608bd3a8",
   "metadata": {},
   "outputs": [],
   "source": [
    "payments= pandas.read_sql_query(\n",
    "    \"\"\"SELECT *\n",
    "    FROM Payments;\n",
    "    \"\"\", \n",
    "    conn\n",
    ")"
   ]
  },
  {
   "cell_type": "code",
   "execution_count": 6,
   "id": "db07ed90",
   "metadata": {},
   "outputs": [],
   "source": [
    "customers= pandas.read_sql_query(\n",
    "    \"\"\"SELECT *\n",
    "    FROM Customers;\n",
    "    \"\"\", \n",
    "    conn\n",
    ")"
   ]
  },
  {
   "cell_type": "code",
   "execution_count": 7,
   "id": "40c02059",
   "metadata": {},
   "outputs": [],
   "source": [
    "products= pandas.read_sql_query(\n",
    "    \"\"\"SELECT *\n",
    "    FROM Products;\n",
    "    \"\"\", \n",
    "    conn\n",
    ")"
   ]
  },
  {
   "cell_type": "code",
   "execution_count": 8,
   "id": "57601315",
   "metadata": {},
   "outputs": [],
   "source": [
    "orderdetails= pandas.read_sql_query(\n",
    "    \"\"\"SELECT *\n",
    "    FROM OrderDetails;\n",
    "    \"\"\", \n",
    "    conn\n",
    ")"
   ]
  },
  {
   "cell_type": "code",
   "execution_count": 9,
   "id": "223314aa",
   "metadata": {},
   "outputs": [
    {
     "name": "stdout",
     "output_type": "stream",
     "text": [
      "   orderNumber productCode  quantityOrdered  priceEach  orderLineNumber  \\\n",
      "0        10100    S18_1749               30     171.70                3   \n",
      "1        10100    S18_2248               50      67.80                2   \n",
      "2        10100    S18_4409               22      86.51                4   \n",
      "3        10100    S24_3969               49      34.47                1   \n",
      "4        10101    S18_2325               25     151.28                4   \n",
      "\n",
      "                           productName   productLine productScale  \\\n",
      "0             1917 Grand Touring Sedan  Vintage Cars       4680.0   \n",
      "1                   1911 Ford Town Car  Vintage Cars       4680.0   \n",
      "2  1932 Alfa Romeo 8C2300 Spider Sport  Vintage Cars       4680.0   \n",
      "3     1936 Mercedes Benz 500k Roadster  Vintage Cars       5040.0   \n",
      "4            1932 Model A Ford J-Coupe  Vintage Cars       4680.0   \n",
      "\n",
      "               productVendor  \\\n",
      "0  Welly Diecast Productions   \n",
      "1    Motor City Art Classics   \n",
      "2              Exoto Designs   \n",
      "3          Red Start Diecast   \n",
      "4      Autoart Studio Design   \n",
      "\n",
      "                                  productDescription  quantityInStock  \\\n",
      "0  This 1:18 scale replica of the 1917 Grand Tour...             2724   \n",
      "1  Features opening hood, opening doors, opening ...              540   \n",
      "2  This 1:18 scale precision die cast replica fea...             6553   \n",
      "3  This model features grille-mounted chrome horn...             2081   \n",
      "4  This model features grille-mounted chrome horn...             9354   \n",
      "\n",
      "   buyPrice    MSRP  \n",
      "0     86.70  170.00  \n",
      "1     33.30   60.54  \n",
      "2     43.26   92.03  \n",
      "3     21.75   41.03  \n",
      "4     58.48  127.13  \n",
      "   orderNumber                                       OrderDetails\n",
      "0        10100  [{'orderNumber': 10100, 'productCode': 'S18_17...\n",
      "1        10101  [{'orderNumber': 10101, 'productCode': 'S18_23...\n",
      "2        10102  [{'orderNumber': 10102, 'productCode': 'S18_13...\n",
      "3        10103  [{'orderNumber': 10103, 'productCode': 'S10_19...\n",
      "4        10104  [{'orderNumber': 10104, 'productCode': 'S12_31...\n",
      "   orderNumber          orderDate       requiredDate        shippedDate  \\\n",
      "0        10100   2003/1/6 0:00:00  2003/1/13 0:00:00  2003/1/10 0:00:00   \n",
      "1        10101   2003/1/9 0:00:00  2003/1/18 0:00:00  2003/1/11 0:00:00   \n",
      "2        10102  2003/1/10 0:00:00  2003/1/18 0:00:00  2003/1/14 0:00:00   \n",
      "3        10103  2003/1/29 0:00:00   2003/2/7 0:00:00   2003/2/2 0:00:00   \n",
      "4        10104  2003/1/31 0:00:00   2003/2/9 0:00:00   2003/2/1 0:00:00   \n",
      "\n",
      "    status                comments  customerNumber  \\\n",
      "0  Shipped                    NULL             363   \n",
      "1  Shipped  Check on availability.             128   \n",
      "2  Shipped                    NULL             181   \n",
      "3  Shipped                    NULL             121   \n",
      "4  Shipped                    NULL             141   \n",
      "\n",
      "                                        OrderDetails  \n",
      "0  [{'orderNumber': 10100, 'productCode': 'S18_17...  \n",
      "1  [{'orderNumber': 10101, 'productCode': 'S18_23...  \n",
      "2  [{'orderNumber': 10102, 'productCode': 'S18_13...  \n",
      "3  [{'orderNumber': 10103, 'productCode': 'S10_19...  \n",
      "4  [{'orderNumber': 10104, 'productCode': 'S12_31...  \n"
     ]
    }
   ],
   "source": [
    " #Associer les détails des commandes aux produits\n",
    "#order_details_with_products = orderdetails.merge(products, on=\"productCode\", how=\"left\")\n",
    "\n",
    " #Vérifier la structure\n",
    "#print(order_details_with_products.head())\n",
    "\n",
    "# Grouper les détails des commandes (avec produits) par commande\n",
    "#order_details_grouped = order_details_with_products.groupby(\"orderNumber\").apply(\n",
    "#    lambda group: group.to_dict(orient=\"records\")\n",
    "#).reset_index(name=\"OrderDetails\")\n",
    "\n",
    "# Vérifier le résultat\n",
    "#print(order_details_grouped.head())\n",
    "\n",
    "# Associer les commandes avec les détails regroupés\n",
    "#orders = orders.merge(order_details_grouped, on=\"orderNumber\", how=\"left\")\n",
    "\n",
    "# Vérifier que toutes les colonnes sont présentes\n",
    "#print(orders.head())"
   ]
  },
  {
   "cell_type": "code",
   "execution_count": null,
   "id": "70235909",
   "metadata": {},
   "outputs": [],
   "source": []
  },
  {
   "cell_type": "code",
   "execution_count": 16,
   "id": "c6adad08",
   "metadata": {},
   "outputs": [
    {
     "data": {
      "text/plain": [
       "InsertManyResult([ObjectId('675c4f4a9d84efc38e27a75a'), ObjectId('675c4f4a9d84efc38e27a75b'), ObjectId('675c4f4a9d84efc38e27a75c'), ObjectId('675c4f4a9d84efc38e27a75d'), ObjectId('675c4f4a9d84efc38e27a75e'), ObjectId('675c4f4a9d84efc38e27a75f'), ObjectId('675c4f4a9d84efc38e27a760'), ObjectId('675c4f4a9d84efc38e27a761'), ObjectId('675c4f4a9d84efc38e27a762'), ObjectId('675c4f4a9d84efc38e27a763'), ObjectId('675c4f4a9d84efc38e27a764'), ObjectId('675c4f4a9d84efc38e27a765'), ObjectId('675c4f4a9d84efc38e27a766'), ObjectId('675c4f4a9d84efc38e27a767'), ObjectId('675c4f4a9d84efc38e27a768'), ObjectId('675c4f4a9d84efc38e27a769'), ObjectId('675c4f4a9d84efc38e27a76a'), ObjectId('675c4f4a9d84efc38e27a76b'), ObjectId('675c4f4a9d84efc38e27a76c'), ObjectId('675c4f4a9d84efc38e27a76d'), ObjectId('675c4f4a9d84efc38e27a76e'), ObjectId('675c4f4a9d84efc38e27a76f'), ObjectId('675c4f4a9d84efc38e27a770'), ObjectId('675c4f4a9d84efc38e27a771'), ObjectId('675c4f4a9d84efc38e27a772'), ObjectId('675c4f4a9d84efc38e27a773'), ObjectId('675c4f4a9d84efc38e27a774'), ObjectId('675c4f4a9d84efc38e27a775'), ObjectId('675c4f4a9d84efc38e27a776'), ObjectId('675c4f4a9d84efc38e27a777'), ObjectId('675c4f4a9d84efc38e27a778'), ObjectId('675c4f4a9d84efc38e27a779'), ObjectId('675c4f4a9d84efc38e27a77a'), ObjectId('675c4f4a9d84efc38e27a77b'), ObjectId('675c4f4a9d84efc38e27a77c'), ObjectId('675c4f4a9d84efc38e27a77d'), ObjectId('675c4f4a9d84efc38e27a77e'), ObjectId('675c4f4a9d84efc38e27a77f'), ObjectId('675c4f4a9d84efc38e27a780'), ObjectId('675c4f4a9d84efc38e27a781'), ObjectId('675c4f4a9d84efc38e27a782'), ObjectId('675c4f4a9d84efc38e27a783'), ObjectId('675c4f4a9d84efc38e27a784'), ObjectId('675c4f4a9d84efc38e27a785'), ObjectId('675c4f4a9d84efc38e27a786'), ObjectId('675c4f4a9d84efc38e27a787'), ObjectId('675c4f4a9d84efc38e27a788'), ObjectId('675c4f4a9d84efc38e27a789'), ObjectId('675c4f4a9d84efc38e27a78a'), ObjectId('675c4f4a9d84efc38e27a78b'), ObjectId('675c4f4a9d84efc38e27a78c'), ObjectId('675c4f4a9d84efc38e27a78d'), ObjectId('675c4f4a9d84efc38e27a78e'), ObjectId('675c4f4a9d84efc38e27a78f'), ObjectId('675c4f4a9d84efc38e27a790'), ObjectId('675c4f4a9d84efc38e27a791'), ObjectId('675c4f4a9d84efc38e27a792'), ObjectId('675c4f4a9d84efc38e27a793'), ObjectId('675c4f4a9d84efc38e27a794'), ObjectId('675c4f4a9d84efc38e27a795'), ObjectId('675c4f4a9d84efc38e27a796'), ObjectId('675c4f4a9d84efc38e27a797'), ObjectId('675c4f4a9d84efc38e27a798'), ObjectId('675c4f4a9d84efc38e27a799'), ObjectId('675c4f4a9d84efc38e27a79a'), ObjectId('675c4f4a9d84efc38e27a79b'), ObjectId('675c4f4a9d84efc38e27a79c'), ObjectId('675c4f4a9d84efc38e27a79d'), ObjectId('675c4f4a9d84efc38e27a79e'), ObjectId('675c4f4a9d84efc38e27a79f'), ObjectId('675c4f4a9d84efc38e27a7a0'), ObjectId('675c4f4a9d84efc38e27a7a1'), ObjectId('675c4f4a9d84efc38e27a7a2'), ObjectId('675c4f4a9d84efc38e27a7a3'), ObjectId('675c4f4a9d84efc38e27a7a4'), ObjectId('675c4f4a9d84efc38e27a7a5'), ObjectId('675c4f4a9d84efc38e27a7a6'), ObjectId('675c4f4a9d84efc38e27a7a7'), ObjectId('675c4f4a9d84efc38e27a7a8'), ObjectId('675c4f4a9d84efc38e27a7a9'), ObjectId('675c4f4a9d84efc38e27a7aa'), ObjectId('675c4f4a9d84efc38e27a7ab'), ObjectId('675c4f4a9d84efc38e27a7ac'), ObjectId('675c4f4a9d84efc38e27a7ad'), ObjectId('675c4f4a9d84efc38e27a7ae'), ObjectId('675c4f4a9d84efc38e27a7af'), ObjectId('675c4f4a9d84efc38e27a7b0'), ObjectId('675c4f4a9d84efc38e27a7b1'), ObjectId('675c4f4a9d84efc38e27a7b2'), ObjectId('675c4f4a9d84efc38e27a7b3'), ObjectId('675c4f4a9d84efc38e27a7b4'), ObjectId('675c4f4a9d84efc38e27a7b5'), ObjectId('675c4f4a9d84efc38e27a7b6'), ObjectId('675c4f4a9d84efc38e27a7b7'), ObjectId('675c4f4a9d84efc38e27a7b8'), ObjectId('675c4f4a9d84efc38e27a7b9'), ObjectId('675c4f4a9d84efc38e27a7ba'), ObjectId('675c4f4a9d84efc38e27a7bb'), ObjectId('675c4f4a9d84efc38e27a7bc'), ObjectId('675c4f4a9d84efc38e27a7bd'), ObjectId('675c4f4a9d84efc38e27a7be'), ObjectId('675c4f4a9d84efc38e27a7bf'), ObjectId('675c4f4a9d84efc38e27a7c0'), ObjectId('675c4f4a9d84efc38e27a7c1'), ObjectId('675c4f4a9d84efc38e27a7c2'), ObjectId('675c4f4a9d84efc38e27a7c3'), ObjectId('675c4f4a9d84efc38e27a7c4'), ObjectId('675c4f4a9d84efc38e27a7c5'), ObjectId('675c4f4a9d84efc38e27a7c6'), ObjectId('675c4f4a9d84efc38e27a7c7'), ObjectId('675c4f4a9d84efc38e27a7c8'), ObjectId('675c4f4a9d84efc38e27a7c9'), ObjectId('675c4f4a9d84efc38e27a7ca'), ObjectId('675c4f4a9d84efc38e27a7cb'), ObjectId('675c4f4a9d84efc38e27a7cc'), ObjectId('675c4f4a9d84efc38e27a7cd'), ObjectId('675c4f4a9d84efc38e27a7ce'), ObjectId('675c4f4a9d84efc38e27a7cf'), ObjectId('675c4f4a9d84efc38e27a7d0'), ObjectId('675c4f4a9d84efc38e27a7d1'), ObjectId('675c4f4a9d84efc38e27a7d2'), ObjectId('675c4f4a9d84efc38e27a7d3'), ObjectId('675c4f4a9d84efc38e27a7d4'), ObjectId('675c4f4a9d84efc38e27a7d5'), ObjectId('675c4f4a9d84efc38e27a7d6'), ObjectId('675c4f4a9d84efc38e27a7d7'), ObjectId('675c4f4a9d84efc38e27a7d8'), ObjectId('675c4f4a9d84efc38e27a7d9'), ObjectId('675c4f4a9d84efc38e27a7da'), ObjectId('675c4f4a9d84efc38e27a7db'), ObjectId('675c4f4a9d84efc38e27a7dc'), ObjectId('675c4f4a9d84efc38e27a7dd'), ObjectId('675c4f4a9d84efc38e27a7de'), ObjectId('675c4f4a9d84efc38e27a7df'), ObjectId('675c4f4a9d84efc38e27a7e0'), ObjectId('675c4f4a9d84efc38e27a7e1'), ObjectId('675c4f4a9d84efc38e27a7e2'), ObjectId('675c4f4a9d84efc38e27a7e3'), ObjectId('675c4f4a9d84efc38e27a7e4'), ObjectId('675c4f4a9d84efc38e27a7e5'), ObjectId('675c4f4a9d84efc38e27a7e6'), ObjectId('675c4f4a9d84efc38e27a7e7'), ObjectId('675c4f4a9d84efc38e27a7e8'), ObjectId('675c4f4a9d84efc38e27a7e9'), ObjectId('675c4f4a9d84efc38e27a7ea'), ObjectId('675c4f4a9d84efc38e27a7eb'), ObjectId('675c4f4a9d84efc38e27a7ec'), ObjectId('675c4f4a9d84efc38e27a7ed'), ObjectId('675c4f4a9d84efc38e27a7ee'), ObjectId('675c4f4a9d84efc38e27a7ef'), ObjectId('675c4f4a9d84efc38e27a7f0'), ObjectId('675c4f4a9d84efc38e27a7f1'), ObjectId('675c4f4a9d84efc38e27a7f2'), ObjectId('675c4f4a9d84efc38e27a7f3'), ObjectId('675c4f4a9d84efc38e27a7f4'), ObjectId('675c4f4a9d84efc38e27a7f5'), ObjectId('675c4f4a9d84efc38e27a7f6'), ObjectId('675c4f4a9d84efc38e27a7f7'), ObjectId('675c4f4a9d84efc38e27a7f8'), ObjectId('675c4f4a9d84efc38e27a7f9'), ObjectId('675c4f4a9d84efc38e27a7fa'), ObjectId('675c4f4a9d84efc38e27a7fb'), ObjectId('675c4f4a9d84efc38e27a7fc'), ObjectId('675c4f4a9d84efc38e27a7fd'), ObjectId('675c4f4a9d84efc38e27a7fe'), ObjectId('675c4f4a9d84efc38e27a7ff'), ObjectId('675c4f4a9d84efc38e27a800'), ObjectId('675c4f4a9d84efc38e27a801'), ObjectId('675c4f4a9d84efc38e27a802'), ObjectId('675c4f4a9d84efc38e27a803'), ObjectId('675c4f4a9d84efc38e27a804'), ObjectId('675c4f4a9d84efc38e27a805'), ObjectId('675c4f4a9d84efc38e27a806'), ObjectId('675c4f4a9d84efc38e27a807'), ObjectId('675c4f4a9d84efc38e27a808'), ObjectId('675c4f4a9d84efc38e27a809'), ObjectId('675c4f4a9d84efc38e27a80a'), ObjectId('675c4f4a9d84efc38e27a80b'), ObjectId('675c4f4a9d84efc38e27a80c'), ObjectId('675c4f4a9d84efc38e27a80d'), ObjectId('675c4f4a9d84efc38e27a80e'), ObjectId('675c4f4a9d84efc38e27a80f'), ObjectId('675c4f4a9d84efc38e27a810'), ObjectId('675c4f4a9d84efc38e27a811'), ObjectId('675c4f4a9d84efc38e27a812'), ObjectId('675c4f4a9d84efc38e27a813'), ObjectId('675c4f4a9d84efc38e27a814'), ObjectId('675c4f4a9d84efc38e27a815'), ObjectId('675c4f4a9d84efc38e27a816'), ObjectId('675c4f4a9d84efc38e27a817'), ObjectId('675c4f4a9d84efc38e27a818'), ObjectId('675c4f4a9d84efc38e27a819'), ObjectId('675c4f4a9d84efc38e27a81a'), ObjectId('675c4f4a9d84efc38e27a81b'), ObjectId('675c4f4a9d84efc38e27a81c'), ObjectId('675c4f4a9d84efc38e27a81d'), ObjectId('675c4f4a9d84efc38e27a81e'), ObjectId('675c4f4a9d84efc38e27a81f'), ObjectId('675c4f4a9d84efc38e27a820'), ObjectId('675c4f4a9d84efc38e27a821'), ObjectId('675c4f4a9d84efc38e27a822'), ObjectId('675c4f4a9d84efc38e27a823'), ObjectId('675c4f4a9d84efc38e27a824'), ObjectId('675c4f4a9d84efc38e27a825'), ObjectId('675c4f4a9d84efc38e27a826'), ObjectId('675c4f4a9d84efc38e27a827'), ObjectId('675c4f4a9d84efc38e27a828'), ObjectId('675c4f4a9d84efc38e27a829'), ObjectId('675c4f4a9d84efc38e27a82a'), ObjectId('675c4f4a9d84efc38e27a82b'), ObjectId('675c4f4a9d84efc38e27a82c'), ObjectId('675c4f4a9d84efc38e27a82d'), ObjectId('675c4f4a9d84efc38e27a82e'), ObjectId('675c4f4a9d84efc38e27a82f'), ObjectId('675c4f4a9d84efc38e27a830'), ObjectId('675c4f4a9d84efc38e27a831'), ObjectId('675c4f4a9d84efc38e27a832'), ObjectId('675c4f4a9d84efc38e27a833'), ObjectId('675c4f4a9d84efc38e27a834'), ObjectId('675c4f4a9d84efc38e27a835'), ObjectId('675c4f4a9d84efc38e27a836'), ObjectId('675c4f4a9d84efc38e27a837'), ObjectId('675c4f4a9d84efc38e27a838'), ObjectId('675c4f4a9d84efc38e27a839'), ObjectId('675c4f4a9d84efc38e27a83a'), ObjectId('675c4f4a9d84efc38e27a83b'), ObjectId('675c4f4a9d84efc38e27a83c'), ObjectId('675c4f4a9d84efc38e27a83d'), ObjectId('675c4f4a9d84efc38e27a83e'), ObjectId('675c4f4a9d84efc38e27a83f'), ObjectId('675c4f4a9d84efc38e27a840'), ObjectId('675c4f4a9d84efc38e27a841'), ObjectId('675c4f4a9d84efc38e27a842'), ObjectId('675c4f4a9d84efc38e27a843'), ObjectId('675c4f4a9d84efc38e27a844'), ObjectId('675c4f4a9d84efc38e27a845'), ObjectId('675c4f4a9d84efc38e27a846'), ObjectId('675c4f4a9d84efc38e27a847'), ObjectId('675c4f4a9d84efc38e27a848'), ObjectId('675c4f4a9d84efc38e27a849'), ObjectId('675c4f4a9d84efc38e27a84a'), ObjectId('675c4f4a9d84efc38e27a84b'), ObjectId('675c4f4a9d84efc38e27a84c'), ObjectId('675c4f4a9d84efc38e27a84d'), ObjectId('675c4f4a9d84efc38e27a84e'), ObjectId('675c4f4a9d84efc38e27a84f'), ObjectId('675c4f4a9d84efc38e27a850'), ObjectId('675c4f4a9d84efc38e27a851'), ObjectId('675c4f4a9d84efc38e27a852'), ObjectId('675c4f4a9d84efc38e27a853'), ObjectId('675c4f4a9d84efc38e27a854'), ObjectId('675c4f4a9d84efc38e27a855'), ObjectId('675c4f4a9d84efc38e27a856'), ObjectId('675c4f4a9d84efc38e27a857'), ObjectId('675c4f4a9d84efc38e27a858'), ObjectId('675c4f4a9d84efc38e27a859'), ObjectId('675c4f4a9d84efc38e27a85a'), ObjectId('675c4f4a9d84efc38e27a85b'), ObjectId('675c4f4a9d84efc38e27a85c'), ObjectId('675c4f4a9d84efc38e27a85d'), ObjectId('675c4f4a9d84efc38e27a85e'), ObjectId('675c4f4a9d84efc38e27a85f'), ObjectId('675c4f4a9d84efc38e27a860'), ObjectId('675c4f4a9d84efc38e27a861'), ObjectId('675c4f4a9d84efc38e27a862'), ObjectId('675c4f4a9d84efc38e27a863'), ObjectId('675c4f4a9d84efc38e27a864'), ObjectId('675c4f4a9d84efc38e27a865'), ObjectId('675c4f4a9d84efc38e27a866'), ObjectId('675c4f4a9d84efc38e27a867'), ObjectId('675c4f4a9d84efc38e27a868'), ObjectId('675c4f4a9d84efc38e27a869'), ObjectId('675c4f4a9d84efc38e27a86a'), ObjectId('675c4f4a9d84efc38e27a86b'), ObjectId('675c4f4a9d84efc38e27a86c'), ObjectId('675c4f4a9d84efc38e27a86d'), ObjectId('675c4f4a9d84efc38e27a86e'), ObjectId('675c4f4a9d84efc38e27a86f'), ObjectId('675c4f4a9d84efc38e27a870'), ObjectId('675c4f4a9d84efc38e27a871'), ObjectId('675c4f4a9d84efc38e27a872'), ObjectId('675c4f4a9d84efc38e27a873'), ObjectId('675c4f4a9d84efc38e27a874'), ObjectId('675c4f4a9d84efc38e27a875'), ObjectId('675c4f4a9d84efc38e27a876'), ObjectId('675c4f4a9d84efc38e27a877'), ObjectId('675c4f4a9d84efc38e27a878'), ObjectId('675c4f4a9d84efc38e27a879'), ObjectId('675c4f4a9d84efc38e27a87a'), ObjectId('675c4f4a9d84efc38e27a87b'), ObjectId('675c4f4a9d84efc38e27a87c'), ObjectId('675c4f4a9d84efc38e27a87d'), ObjectId('675c4f4a9d84efc38e27a87e'), ObjectId('675c4f4a9d84efc38e27a87f'), ObjectId('675c4f4a9d84efc38e27a880'), ObjectId('675c4f4a9d84efc38e27a881'), ObjectId('675c4f4a9d84efc38e27a882'), ObjectId('675c4f4a9d84efc38e27a883'), ObjectId('675c4f4a9d84efc38e27a884'), ObjectId('675c4f4a9d84efc38e27a885'), ObjectId('675c4f4a9d84efc38e27a886'), ObjectId('675c4f4a9d84efc38e27a887'), ObjectId('675c4f4a9d84efc38e27a888'), ObjectId('675c4f4a9d84efc38e27a889'), ObjectId('675c4f4a9d84efc38e27a88a'), ObjectId('675c4f4a9d84efc38e27a88b'), ObjectId('675c4f4a9d84efc38e27a88c'), ObjectId('675c4f4a9d84efc38e27a88d'), ObjectId('675c4f4a9d84efc38e27a88e'), ObjectId('675c4f4a9d84efc38e27a88f'), ObjectId('675c4f4a9d84efc38e27a890'), ObjectId('675c4f4a9d84efc38e27a891'), ObjectId('675c4f4a9d84efc38e27a892'), ObjectId('675c4f4a9d84efc38e27a893'), ObjectId('675c4f4a9d84efc38e27a894'), ObjectId('675c4f4a9d84efc38e27a895'), ObjectId('675c4f4a9d84efc38e27a896'), ObjectId('675c4f4a9d84efc38e27a897'), ObjectId('675c4f4a9d84efc38e27a898'), ObjectId('675c4f4a9d84efc38e27a899'), ObjectId('675c4f4a9d84efc38e27a89a'), ObjectId('675c4f4a9d84efc38e27a89b'), ObjectId('675c4f4a9d84efc38e27a89c'), ObjectId('675c4f4a9d84efc38e27a89d'), ObjectId('675c4f4a9d84efc38e27a89e'), ObjectId('675c4f4a9d84efc38e27a89f')], acknowledged=True)"
      ]
     },
     "execution_count": 16,
     "metadata": {},
     "output_type": "execute_result"
    }
   ],
   "source": [
    "db.orders.insert_many(\n",
    "orders.to_dict(orient = \"records\"))"
   ]
  },
  {
   "cell_type": "code",
   "execution_count": null,
   "id": "7430b9bc",
   "metadata": {},
   "outputs": [],
   "source": []
  },
  {
   "cell_type": "code",
   "execution_count": 11,
   "id": "6d2229b3",
   "metadata": {},
   "outputs": [
    {
     "name": "stdout",
     "output_type": "stream",
     "text": [
      "Index(['employeeNumber', 'lastName', 'firstName', 'extension', 'email',\n",
      "       'officeCode', 'reportsTo', 'jobTitle', 'office'],\n",
      "      dtype='object')\n"
     ]
    }
   ],
   "source": [
    "# Ajouter les informations du bureau à chaque employé\n",
    "employees[\"office\"] = employees[\"officeCode\"].apply(\n",
    "    lambda office_code: offices[offices[\"officeCode\"] == office_code].iloc[0].to_dict()\n",
    ")\n",
    "# Vérifier le résultat\n",
    "print(employees.columns)\n"
   ]
  },
  {
   "cell_type": "code",
   "execution_count": 12,
   "id": "1c04ff41",
   "metadata": {},
   "outputs": [
    {
     "data": {
      "text/plain": [
       "InsertManyResult([ObjectId('675c4b019d84efc38e27a6c9'), ObjectId('675c4b019d84efc38e27a6ca'), ObjectId('675c4b019d84efc38e27a6cb'), ObjectId('675c4b019d84efc38e27a6cc'), ObjectId('675c4b019d84efc38e27a6cd'), ObjectId('675c4b019d84efc38e27a6ce'), ObjectId('675c4b019d84efc38e27a6cf'), ObjectId('675c4b019d84efc38e27a6d0'), ObjectId('675c4b019d84efc38e27a6d1'), ObjectId('675c4b019d84efc38e27a6d2'), ObjectId('675c4b019d84efc38e27a6d3'), ObjectId('675c4b019d84efc38e27a6d4'), ObjectId('675c4b019d84efc38e27a6d5'), ObjectId('675c4b019d84efc38e27a6d6'), ObjectId('675c4b019d84efc38e27a6d7'), ObjectId('675c4b019d84efc38e27a6d8'), ObjectId('675c4b019d84efc38e27a6d9'), ObjectId('675c4b019d84efc38e27a6da'), ObjectId('675c4b019d84efc38e27a6db'), ObjectId('675c4b019d84efc38e27a6dc'), ObjectId('675c4b019d84efc38e27a6dd'), ObjectId('675c4b019d84efc38e27a6de'), ObjectId('675c4b019d84efc38e27a6df')], acknowledged=True)"
      ]
     },
     "execution_count": 12,
     "metadata": {},
     "output_type": "execute_result"
    }
   ],
   "source": [
    "db.employees.insert_many(\n",
    "employees.to_dict(orient = \"records\")\n",
    ")"
   ]
  },
  {
   "cell_type": "code",
   "execution_count": 13,
   "id": "0cdb8535",
   "metadata": {
    "scrolled": true
   },
   "outputs": [
    {
     "name": "stdout",
     "output_type": "stream",
     "text": [
      "   customerNumber                customerName contactLastName  \\\n",
      "0             103           Atelier graphique         Schmitt   \n",
      "1             112          Signal Gift Stores            King   \n",
      "2             114  Australian Collectors, Co.        Ferguson   \n",
      "3             119           La Rochelle Gifts         Labrune   \n",
      "4             121          Baane Mini Imports      Bergulfsen   \n",
      "\n",
      "  contactFirstName         phone                  addressLine1 addressLine2  \\\n",
      "0           Carine    40.32.2555                54, rue Royale         NULL   \n",
      "1              Sue    7025551838               8489 Strong St.         NULL   \n",
      "2            Peter  03 9520 4555             636 St Kilda Road      Level 3   \n",
      "3           Janine    40.67.8555  67, rue des Cinquante Otages         NULL   \n",
      "4            Jonas    07-98 9555        Erling Skakkes gate 78         NULL   \n",
      "\n",
      "        city     state postalCode    country salesRepEmployeeNumber  \\\n",
      "0     Nantes      NULL      44000     France                   1370   \n",
      "1  Las Vegas        NV      83030        USA                   1166   \n",
      "2  Melbourne  Victoria       3004  Australia                   1611   \n",
      "3     Nantes      NULL      44000     France                   1370   \n",
      "4    Stavern      NULL       4110     Norway                   1504   \n",
      "\n",
      "   creditLimit                                           payments  \n",
      "0      21000.0  [{'customerNumber': 103, 'checkNumber': 'HQ336...  \n",
      "1      71800.0  [{'customerNumber': 112, 'checkNumber': 'BO864...  \n",
      "2     117300.0  [{'customerNumber': 114, 'checkNumber': 'GG314...  \n",
      "3     118200.0  [{'customerNumber': 119, 'checkNumber': 'DB933...  \n",
      "4      81700.0  [{'customerNumber': 121, 'checkNumber': 'DB889...  \n"
     ]
    }
   ],
   "source": [
    "# Ajouter les informations des paiements à chaque client\n",
    "customers[\"payments\"] = customers[\"customerNumber\"].apply(\n",
    "    lambda customerNumber: payments[payments[\"customerNumber\"] == customerNumber].to_dict(orient=\"records\")\n",
    ")\n",
    "\n",
    "# Vérifier le résultat\n",
    "print(customers.head())"
   ]
  },
  {
   "cell_type": "code",
   "execution_count": 14,
   "id": "43086d04",
   "metadata": {},
   "outputs": [
    {
     "data": {
      "text/plain": [
       "InsertManyResult([ObjectId('675c4b029d84efc38e27a6e0'), ObjectId('675c4b029d84efc38e27a6e1'), ObjectId('675c4b029d84efc38e27a6e2'), ObjectId('675c4b029d84efc38e27a6e3'), ObjectId('675c4b029d84efc38e27a6e4'), ObjectId('675c4b029d84efc38e27a6e5'), ObjectId('675c4b029d84efc38e27a6e6'), ObjectId('675c4b029d84efc38e27a6e7'), ObjectId('675c4b029d84efc38e27a6e8'), ObjectId('675c4b029d84efc38e27a6e9'), ObjectId('675c4b029d84efc38e27a6ea'), ObjectId('675c4b029d84efc38e27a6eb'), ObjectId('675c4b029d84efc38e27a6ec'), ObjectId('675c4b029d84efc38e27a6ed'), ObjectId('675c4b029d84efc38e27a6ee'), ObjectId('675c4b029d84efc38e27a6ef'), ObjectId('675c4b029d84efc38e27a6f0'), ObjectId('675c4b029d84efc38e27a6f1'), ObjectId('675c4b029d84efc38e27a6f2'), ObjectId('675c4b029d84efc38e27a6f3'), ObjectId('675c4b029d84efc38e27a6f4'), ObjectId('675c4b029d84efc38e27a6f5'), ObjectId('675c4b029d84efc38e27a6f6'), ObjectId('675c4b029d84efc38e27a6f7'), ObjectId('675c4b029d84efc38e27a6f8'), ObjectId('675c4b029d84efc38e27a6f9'), ObjectId('675c4b029d84efc38e27a6fa'), ObjectId('675c4b029d84efc38e27a6fb'), ObjectId('675c4b029d84efc38e27a6fc'), ObjectId('675c4b029d84efc38e27a6fd'), ObjectId('675c4b029d84efc38e27a6fe'), ObjectId('675c4b029d84efc38e27a6ff'), ObjectId('675c4b029d84efc38e27a700'), ObjectId('675c4b029d84efc38e27a701'), ObjectId('675c4b029d84efc38e27a702'), ObjectId('675c4b029d84efc38e27a703'), ObjectId('675c4b029d84efc38e27a704'), ObjectId('675c4b029d84efc38e27a705'), ObjectId('675c4b029d84efc38e27a706'), ObjectId('675c4b029d84efc38e27a707'), ObjectId('675c4b029d84efc38e27a708'), ObjectId('675c4b029d84efc38e27a709'), ObjectId('675c4b029d84efc38e27a70a'), ObjectId('675c4b029d84efc38e27a70b'), ObjectId('675c4b029d84efc38e27a70c'), ObjectId('675c4b029d84efc38e27a70d'), ObjectId('675c4b029d84efc38e27a70e'), ObjectId('675c4b029d84efc38e27a70f'), ObjectId('675c4b029d84efc38e27a710'), ObjectId('675c4b029d84efc38e27a711'), ObjectId('675c4b029d84efc38e27a712'), ObjectId('675c4b029d84efc38e27a713'), ObjectId('675c4b029d84efc38e27a714'), ObjectId('675c4b029d84efc38e27a715'), ObjectId('675c4b029d84efc38e27a716'), ObjectId('675c4b029d84efc38e27a717'), ObjectId('675c4b029d84efc38e27a718'), ObjectId('675c4b029d84efc38e27a719'), ObjectId('675c4b029d84efc38e27a71a'), ObjectId('675c4b029d84efc38e27a71b'), ObjectId('675c4b029d84efc38e27a71c'), ObjectId('675c4b029d84efc38e27a71d'), ObjectId('675c4b029d84efc38e27a71e'), ObjectId('675c4b029d84efc38e27a71f'), ObjectId('675c4b029d84efc38e27a720'), ObjectId('675c4b029d84efc38e27a721'), ObjectId('675c4b029d84efc38e27a722'), ObjectId('675c4b029d84efc38e27a723'), ObjectId('675c4b029d84efc38e27a724'), ObjectId('675c4b029d84efc38e27a725'), ObjectId('675c4b029d84efc38e27a726'), ObjectId('675c4b029d84efc38e27a727'), ObjectId('675c4b029d84efc38e27a728'), ObjectId('675c4b029d84efc38e27a729'), ObjectId('675c4b029d84efc38e27a72a'), ObjectId('675c4b029d84efc38e27a72b'), ObjectId('675c4b029d84efc38e27a72c'), ObjectId('675c4b029d84efc38e27a72d'), ObjectId('675c4b029d84efc38e27a72e'), ObjectId('675c4b029d84efc38e27a72f'), ObjectId('675c4b029d84efc38e27a730'), ObjectId('675c4b029d84efc38e27a731'), ObjectId('675c4b029d84efc38e27a732'), ObjectId('675c4b029d84efc38e27a733'), ObjectId('675c4b029d84efc38e27a734'), ObjectId('675c4b029d84efc38e27a735'), ObjectId('675c4b029d84efc38e27a736'), ObjectId('675c4b029d84efc38e27a737'), ObjectId('675c4b029d84efc38e27a738'), ObjectId('675c4b029d84efc38e27a739'), ObjectId('675c4b029d84efc38e27a73a'), ObjectId('675c4b029d84efc38e27a73b'), ObjectId('675c4b029d84efc38e27a73c'), ObjectId('675c4b029d84efc38e27a73d'), ObjectId('675c4b029d84efc38e27a73e'), ObjectId('675c4b029d84efc38e27a73f'), ObjectId('675c4b029d84efc38e27a740'), ObjectId('675c4b029d84efc38e27a741'), ObjectId('675c4b029d84efc38e27a742'), ObjectId('675c4b029d84efc38e27a743'), ObjectId('675c4b029d84efc38e27a744'), ObjectId('675c4b029d84efc38e27a745'), ObjectId('675c4b029d84efc38e27a746'), ObjectId('675c4b029d84efc38e27a747'), ObjectId('675c4b029d84efc38e27a748'), ObjectId('675c4b029d84efc38e27a749'), ObjectId('675c4b029d84efc38e27a74a'), ObjectId('675c4b029d84efc38e27a74b'), ObjectId('675c4b029d84efc38e27a74c'), ObjectId('675c4b029d84efc38e27a74d'), ObjectId('675c4b029d84efc38e27a74e'), ObjectId('675c4b029d84efc38e27a74f'), ObjectId('675c4b029d84efc38e27a750'), ObjectId('675c4b029d84efc38e27a751'), ObjectId('675c4b029d84efc38e27a752'), ObjectId('675c4b029d84efc38e27a753'), ObjectId('675c4b029d84efc38e27a754'), ObjectId('675c4b029d84efc38e27a755'), ObjectId('675c4b029d84efc38e27a756'), ObjectId('675c4b029d84efc38e27a757'), ObjectId('675c4b029d84efc38e27a758'), ObjectId('675c4b029d84efc38e27a759')], acknowledged=True)"
      ]
     },
     "execution_count": 14,
     "metadata": {},
     "output_type": "execute_result"
    }
   ],
   "source": [
    "db.customers.insert_many(\n",
    "customers.to_dict(orient = \"records\")\n",
    ")"
   ]
  }
 ],
 "metadata": {
  "kernelspec": {
   "display_name": "Python 3 (ipykernel)",
   "language": "python",
   "name": "python3"
  },
  "language_info": {
   "codemirror_mode": {
    "name": "ipython",
    "version": 3
   },
   "file_extension": ".py",
   "mimetype": "text/x-python",
   "name": "python",
   "nbconvert_exporter": "python",
   "pygments_lexer": "ipython3",
   "version": "3.11.4"
  }
 },
 "nbformat": 4,
 "nbformat_minor": 5
}
